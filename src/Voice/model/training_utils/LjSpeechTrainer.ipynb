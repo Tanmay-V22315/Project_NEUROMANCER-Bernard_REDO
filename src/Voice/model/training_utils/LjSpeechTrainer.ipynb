{
 "cells": [
  {
   "cell_type": "code",
   "execution_count": null,
   "metadata": {
    "colab": {
     "base_uri": "https://localhost:8080/"
    },
    "id": "4zWJ9LtnnaCs",
    "outputId": "85284571-fda9-4a89-b644-a70f7cdbfc04"
   },
   "outputs": [],
   "source": [
    "!wget https://data.keithito.com/data/speech/LJSpeech-1.1.tar.bz2\n",
    "!git clone https://github.com/coqui-ai/TTS.git\n",
    "%cd TTS \n",
    "#remove this line if you don't want the dev branch. \n",
    "!git checkout dev\n",
    "!tar -xjf /content/LJSpeech-1.1.tar.bz2\n"
   ]
  },
  {
   "cell_type": "code",
   "execution_count": null,
   "metadata": {
    "colab": {
     "base_uri": "https://localhost:8080/"
    },
    "id": "Ba9qsQBNjM69",
    "outputId": "29fb743c-2b65-4f96-c29c-afef29d38d5b"
   },
   "outputs": [],
   "source": [
    "%cd /content/TTS/\n",
    "!make install"
   ]
  },
  {
   "cell_type": "code",
   "execution_count": null,
   "metadata": {
    "id": "xTK4kZOdi2TQ"
   },
   "outputs": [],
   "source": [
    "!sudo apt install espeak-ng espeak"
   ]
  },
  {
   "cell_type": "code",
   "execution_count": null,
   "metadata": {
    "id": "ndVUheKeVQdv"
   },
   "outputs": [],
   "source": [
    "%cd /content\n",
    "!touch config.json"
   ]
  },
  {
   "cell_type": "code",
   "execution_count": 9,
   "metadata": {
    "id": "1e5of3TsZ0aW"
   },
   "outputs": [],
   "source": [
    "#IT'S OVER 9000!!!!!!!!\n",
    "!split -l 9000 /content/LJSpeech-1.1/metadata.csv  "
   ]
  },
  {
   "cell_type": "code",
   "execution_count": 12,
   "metadata": {
    "id": "xLGPZTmyfVwO"
   },
   "outputs": [],
   "source": [
    "!mv metadata_train.csv /content/LJSpeech-1.1/\n",
    "!mv metadata_val.csv /content/LJSpeech-1.1/"
   ]
  },
  {
   "cell_type": "code",
   "execution_count": null,
   "metadata": {
    "colab": {
     "base_uri": "https://localhost:8080/"
    },
    "id": "8NqqSFPzVTYx",
    "outputId": "990bde2c-a4e4-4803-f634-b05aafb0c63f"
   },
   "outputs": [],
   "source": [
    "%cd /content/TTS/TTS/bin/\n",
    "!python3 train_tts.py --config_path \"/content/config.json\" "
   ]
  }
 ],
 "metadata": {
  "accelerator": "GPU",
  "colab": {
   "collapsed_sections": [],
   "name": "LjSpeechTrainer.ipynb",
   "provenance": []
  },
  "kernelspec": {
   "display_name": "Python 3",
   "language": "python",
   "name": "python3"
  },
  "language_info": {
   "codemirror_mode": {
    "name": "ipython",
    "version": 3
   },
   "file_extension": ".py",
   "mimetype": "text/x-python",
   "name": "python",
   "nbconvert_exporter": "python",
   "pygments_lexer": "ipython3",
   "version": "3.8.8"
  }
 },
 "nbformat": 4,
 "nbformat_minor": 2
}
